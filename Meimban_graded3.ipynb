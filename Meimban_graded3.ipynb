{
 "cells": [
  {
   "cell_type": "markdown",
   "id": "91329eb0-c3f5-44fd-9c08-3d6ce46c2df1",
   "metadata": {},
   "source": [
    "Shanaya Clysly D. Meimban\n",
    "\n",
    "BS FIN\n",
    "\n",
    "12242527\n",
    "\n",
    "References: Modules"
   ]
  },
  {
   "cell_type": "markdown",
   "id": "174e376c",
   "metadata": {
    "id": "174e376c"
   },
   "source": [
    "# Zomato Exercise"
   ]
  },
  {
   "cell_type": "markdown",
   "id": "2d84fdf3",
   "metadata": {
    "id": "2d84fdf3"
   },
   "source": [
    "Zomato is a restaurant aggregator website. The platform provides information, menus and user-reviews of restaurants as well as food delivery options from partner restaurants in select cities. You have been provided 3 datasets:\n",
    "\n",
    "- zomato.csv contains restaurant information like average_cost_for_two, cuisines\n",
    "- location.csv contains location of the restaurants like address, city, locality & etc\n",
    "- ratings.csv contains aggregate rating for each restaurant\n",
    "\n",
    "The different files are connected using the `id` columns which can be found in the different files. The id column is a unique identifier to represent a restaurant. You can use this to **merge** the different files."
   ]
  },
  {
   "cell_type": "code",
   "execution_count": 116,
   "id": "5337de5f",
   "metadata": {
    "id": "5337de5f"
   },
   "outputs": [],
   "source": [
    "import pandas as pd\n",
    "import numpy as np"
   ]
  },
  {
   "cell_type": "markdown",
   "id": "77605fbc",
   "metadata": {
    "id": "77605fbc"
   },
   "source": [
    "1. Merge the zomato, location & ratings file into a signle dataframe and store it to the `merged_df` variable **(3pts)**"
   ]
  },
  {
   "cell_type": "code",
   "execution_count": 118,
   "id": "ddbd0bb1",
   "metadata": {
    "id": "ddbd0bb1"
   },
   "outputs": [],
   "source": [
    "zomato_df = pd.read_csv('zomato.csv')\n",
    "location_df = pd.read_csv('location.csv')\n",
    "ratings_df = pd.read_csv('ratings.csv')\n",
    "merged_df = pd.merge(zomato_df, location_df, on='id')\n",
    "merged_df = pd.merge(merged_df, ratings_df, on='id')"
   ]
  },
  {
   "cell_type": "code",
   "execution_count": 119,
   "id": "b2a86a44",
   "metadata": {
    "id": "b2a86a44"
   },
   "outputs": [],
   "source": [
    "assert (6830, 35)==merged_df.shape\n",
    "\n",
    "cols = ['id', 'address', 'city', 'city_id', 'country_id', 'latitude',\n",
    "       'locality', 'locality_verbose', 'longitude', 'zipcode',\n",
    "       'aggregate_rating', 'rating_color', 'rating_text', 'votes',\n",
    "       'average_cost_for_two', 'book_url', 'cuisines', 'currency', 'deeplink',\n",
    "       'events_url', 'featured_image', 'has_online_delivery',\n",
    "       'has_table_booking', 'include_bogo_offers', 'is_book_form_web_view',\n",
    "       'is_delivering_now', 'is_table_reservation_supported',\n",
    "       'is_zomato_book_res', 'menu_url', 'mezzo_provider', 'name',\n",
    "       'photos_url', 'price_range', 'thumb', 'url']\n",
    "\n",
    "assert sorted(merged_df.columns) == sorted(cols)"
   ]
  },
  {
   "cell_type": "markdown",
   "id": "02223abe",
   "metadata": {
    "id": "02223abe"
   },
   "source": [
    "2. Create a function that returns the average aggregate rating for each city. Expected returned value is a Series datatype which contains name of city as index and average aggregate rating as value. **(2pts)**"
   ]
  },
  {
   "cell_type": "code",
   "execution_count": 121,
   "id": "bd7d8f34",
   "metadata": {
    "id": "bd7d8f34"
   },
   "outputs": [
    {
     "name": "stdout",
     "output_type": "stream",
     "text": [
      "city\n",
      "Caloocan City       1.953509\n",
      "Las Piñas City      2.855738\n",
      "Makati City         3.250512\n",
      "Malabon City        1.558333\n",
      "Mandaluyong City    2.951919\n",
      "Manila              2.842652\n",
      "Marikina City       2.672512\n",
      "Muntinlupa City     2.962682\n",
      "Parañaque City      3.130100\n",
      "Pasay City          3.302075\n",
      "Pasig City          2.916086\n",
      "Pateros City        1.740000\n",
      "Quezon City         2.887946\n",
      "San Juan City       3.098462\n",
      "Tagaytay City       2.959259\n",
      "Taguig City         3.234105\n",
      "Valenzuela City     1.890741\n",
      "Name: aggregate_rating, dtype: float64\n"
     ]
    }
   ],
   "source": [
    "def exercise_2(merged_df):\n",
    "    avg_ratings = merged_df.groupby('city')['aggregate_rating'].mean()\n",
    "    return avg_ratings\n",
    "average_ratings_by_city = exercise_2(merged_df)\n",
    "print(average_ratings_by_city)"
   ]
  },
  {
   "cell_type": "code",
   "execution_count": 122,
   "id": "10e5b4c1",
   "metadata": {
    "id": "10e5b4c1"
   },
   "outputs": [],
   "source": [
    "res_series = exercise_2(merged_df)\n",
    "assert True == np.isclose(3.302075, res_series[res_series.index == 'Pasay City'],\n",
    "                          rtol=1e-05, atol=1e-08, equal_nan=False)[0]\n",
    "assert True == np.isclose(1.890741, res_series[res_series.index == 'Valenzuela City'],\n",
    "                          rtol=1e-05, atol=1e-08, equal_nan=False)[0]\n",
    "assert True == np.isclose(1.558333, res_series[res_series.index == 'Malabon City'],\n",
    "                          rtol=1e-05, atol=1e-08, equal_nan=False)[0]"
   ]
  },
  {
   "cell_type": "markdown",
   "id": "5db591ac",
   "metadata": {
    "id": "5db591ac"
   },
   "source": [
    "3. Using the apply function of pandas convert the rating_text to a numeric equivalent. You are to introduce a new column in merged_df called `rating_numeric` which is based on the value from rating_text: **(3pts)**\n",
    "\n",
    "Excellent = 5 <br>\n",
    "Very Good = 4 <br>\n",
    "Good = 3 <br>\n",
    "Average = 2 <br>\n",
    "Poor = 1 <br>\n",
    "Not rated = 0 <br>"
   ]
  },
  {
   "cell_type": "code",
   "execution_count": 124,
   "id": "41293771",
   "metadata": {
    "id": "41293771"
   },
   "outputs": [
    {
     "name": "stdout",
     "output_type": "stream",
     "text": [
      "     rating_text  rating_numeric\n",
      "0      Excellent               5\n",
      "1      Excellent               5\n",
      "2      Very Good               4\n",
      "3      Very Good               4\n",
      "4      Excellent               5\n",
      "...          ...             ...\n",
      "6825     Average               2\n",
      "6826     Average               2\n",
      "6827   Not rated               0\n",
      "6828        Good               3\n",
      "6829   Not rated               0\n",
      "\n",
      "[6830 rows x 2 columns]\n"
     ]
    }
   ],
   "source": [
    "def convert_rating_text_to_numeric(rating_text):\n",
    "    rating_map = {\n",
    "        'Excellent': 5,\n",
    "        'Very Good': 4,\n",
    "        'Good': 3,\n",
    "        'Average': 2,\n",
    "        'Poor': 1,\n",
    "        'Not rated': 0\n",
    "    }\n",
    "    return rating_map.get(rating_text, 0)\n",
    "merged_df['rating_numeric'] = merged_df['rating_text'].apply(convert_rating_text_to_numeric)\n",
    "print(merged_df[['rating_text', 'rating_numeric']])"
   ]
  },
  {
   "cell_type": "code",
   "execution_count": 125,
   "id": "c62df922",
   "metadata": {
    "id": "c62df922"
   },
   "outputs": [],
   "source": [
    "assert 868 == merged_df[merged_df.rating_numeric == 0].shape[0]\n",
    "assert True == ('rating_numeric' in merged_df.columns)"
   ]
  },
  {
   "cell_type": "markdown",
   "id": "97ec4197",
   "metadata": {
    "id": "97ec4197"
   },
   "source": [
    "4. Create a function which filters the merged dataframe to only contain rows coming in from a specific city. Expected returned value is a dataframe **(2pts)**"
   ]
  },
  {
   "cell_type": "code",
   "execution_count": 127,
   "id": "9773b18e",
   "metadata": {
    "id": "9773b18e"
   },
   "outputs": [],
   "source": [
    "def exercise_4(merged_df, city):\n",
    "    \"\"\"\n",
    "    Returns a filtered DataFrame containing only rows from the specified city.\n",
    "\n",
    "    Parameters:\n",
    "    merged_df (pd.DataFrame): The DataFrame to apply the filter on.\n",
    "    city (str): The city to filter by.\n",
    "\n",
    "    Returns:\n",
    "    pd.DataFrame: A DataFrame with rows corresponding to the provided city.\n",
    "    \"\"\"\n",
    "    filtered_df = merged_df[merged_df['city'].str.lower() == city.lower()]\n",
    "    return filtered_df"
   ]
  },
  {
   "cell_type": "code",
   "execution_count": 128,
   "id": "1ca29a81",
   "metadata": {
    "id": "1ca29a81"
   },
   "outputs": [],
   "source": [
    "\n",
    "assert 'Makati City' == exercise_4(merged_df, 'Makati City').city.unique()[0]\n",
    "assert (976, 36) == exercise_4(merged_df, 'Makati City').shape\n",
    "\n",
    "assert 'Mandaluyong City' == exercise_4(merged_df, 'Mandaluyong City').city.unique()[0]\n",
    "assert (443, 36) == exercise_4(merged_df, 'Mandaluyong City').shape\n",
    "\n",
    "assert (0, 36) == exercise_4(merged_df, 'Quezon  City').shape"
   ]
  },
  {
   "cell_type": "code",
   "execution_count": 129,
   "id": "99c2ff69-34c4-425e-aac8-a55f2d3a06a4",
   "metadata": {},
   "outputs": [
    {
     "name": "stdout",
     "output_type": "stream",
     "text": [
      "Filtered Makati City:\n",
      "          id  average_cost_for_two book_url                   cuisines  \\\n",
      "0    6316125                  1000      NaN            Japanese, Ramen   \n",
      "1   18409457                  1300      NaN  Korean, Grill, Korean BBQ   \n",
      "2    6307689                  1600      NaN         American, Filipino   \n",
      "7    6304287                  1200      NaN                   Japanese   \n",
      "10   6304833                   700      NaN                   Filipino   \n",
      "\n",
      "   currency                      deeplink  \\\n",
      "0         P   zomato://restaurant/6316125   \n",
      "1         P  zomato://restaurant/18409457   \n",
      "2         P   zomato://restaurant/6307689   \n",
      "7         P   zomato://restaurant/6304287   \n",
      "10        P   zomato://restaurant/6304833   \n",
      "\n",
      "                                           events_url  \\\n",
      "0   https://www.zomato.com/manila/mendokoro-ramenb...   \n",
      "1   https://www.zomato.com/manila/soban-k-town-gri...   \n",
      "2   https://www.zomato.com/manila/filling-station-...   \n",
      "7   https://www.zomato.com/manila/izakaya-kikufuji...   \n",
      "10  https://www.zomato.com/manila/manam-greenbelt-...   \n",
      "\n",
      "                                       featured_image  has_online_delivery  \\\n",
      "0   https://b.zmtcdn.com/data/reviews_photos/971/2...                    0   \n",
      "1   https://b.zmtcdn.com/data/res_imagery/18290970...                    0   \n",
      "2   https://b.zmtcdn.com/data/pictures/9/6307689/b...                    0   \n",
      "7   https://b.zmtcdn.com/data/res_imagery/6304287_...                    0   \n",
      "10  https://b.zmtcdn.com/data/pictures/chains/3/63...                    0   \n",
      "\n",
      "    has_table_booking  ...   latitude  \\\n",
      "0                   0  ...  14.560313   \n",
      "1                   0  ...  14.552137   \n",
      "2                   0  ...  14.563144   \n",
      "7                   0  ...  14.553708   \n",
      "10                  0  ...  14.551920   \n",
      "\n",
      "                                      locality  \\\n",
      "0                              Salcedo Village   \n",
      "1        Greenbelt 3, San Lorenzo, Makati City   \n",
      "2                                    Poblacion   \n",
      "7   Little Tokyo, Legaspi Village, Makati City   \n",
      "10       Greenbelt 2, San Lorenzo, Makati City   \n",
      "\n",
      "                                     locality_verbose   longitude  zipcode  \\\n",
      "0                        Salcedo Village, Makati City  121.024638      NaN   \n",
      "1   Greenbelt 3, San Lorenzo, Makati City, Makati ...  121.021325      NaN   \n",
      "2                              Poblacion, Makati City  121.029800   1210.0   \n",
      "7   Little Tokyo, Legaspi Village, Makati City, Ma...  121.014101      NaN   \n",
      "10  Greenbelt 2, San Lorenzo, Makati City, Makati ...  121.020485      NaN   \n",
      "\n",
      "   aggregate_rating rating_color rating_text votes  rating_numeric  \n",
      "0               4.9       3F7E00   Excellent  1394               5  \n",
      "1               4.6       3F7E00   Excellent   602               5  \n",
      "2               4.0       5BA829   Very Good   563               4  \n",
      "7               4.5       3F7E00   Excellent  1031               5  \n",
      "10              4.5       3F7E00   Excellent   700               5  \n",
      "\n",
      "[5 rows x 36 columns]\n",
      "Filtered Mandaluyong City:\n",
      "          id  average_cost_for_two book_url          cuisines currency  \\\n",
      "11   6318506                  1500      NaN   Japanese, Sushi        P   \n",
      "13   6314302                  1776      NaN  Japanese, Korean        P   \n",
      "15  18189371                  1000      NaN           Chinese        P   \n",
      "18   6314111                  1200      NaN   Japanese, Ramen        P   \n",
      "43   6315846                   800      NaN          American        P   \n",
      "\n",
      "                        deeplink  \\\n",
      "11   zomato://restaurant/6318506   \n",
      "13   zomato://restaurant/6314302   \n",
      "15  zomato://restaurant/18189371   \n",
      "18   zomato://restaurant/6314111   \n",
      "43   zomato://restaurant/6315846   \n",
      "\n",
      "                                           events_url  \\\n",
      "11  https://www.zomato.com/manila/ooma-ortigas-man...   \n",
      "13  https://www.zomato.com/manila/sambo-kojin-orti...   \n",
      "15  https://www.zomato.com/manila/din-tai-fung-ort...   \n",
      "18  https://www.zomato.com/manila/ippudo-ortigas-m...   \n",
      "43  https://www.zomato.com/manila/frankie-s-new-yo...   \n",
      "\n",
      "                                       featured_image  has_online_delivery  \\\n",
      "11  https://b.zmtcdn.com/data/res_imagery/6318506_...                    0   \n",
      "13  https://b.zmtcdn.com/data/pictures/chains/1/63...                    0   \n",
      "15  https://b.zmtcdn.com/data/res_imagery/18189371...                    0   \n",
      "18  https://b.zmtcdn.com/data/pictures/chains/1/63...                    0   \n",
      "43  https://b.zmtcdn.com/data/res_imagery/6315846_...                    0   \n",
      "\n",
      "    has_table_booking  ...   latitude                                locality  \\\n",
      "11                  0  ...  14.583873  SM Megamall, Ortigas, Mandaluyong City   \n",
      "13                  0  ...  14.584386  SM Megamall, Ortigas, Mandaluyong City   \n",
      "15                  0  ...  14.583723  SM Megamall, Ortigas, Mandaluyong City   \n",
      "18                  0  ...  14.583244  SM Megamall, Ortigas, Mandaluyong City   \n",
      "43                  0  ...  14.583243  SM Megamall, Ortigas, Mandaluyong City   \n",
      "\n",
      "                                     locality_verbose   longitude  zipcode  \\\n",
      "11  SM Megamall, Ortigas, Mandaluyong City, Mandal...  121.056168      NaN   \n",
      "13  SM Megamall, Ortigas, Mandaluyong City, Mandal...  121.056983      NaN   \n",
      "15  SM Megamall, Ortigas, Mandaluyong City, Mandal...  121.056161      NaN   \n",
      "18  SM Megamall, Ortigas, Mandaluyong City, Mandal...  121.055956      NaN   \n",
      "43  SM Megamall, Ortigas, Mandaluyong City, Mandal...  121.055954      NaN   \n",
      "\n",
      "   aggregate_rating rating_color rating_text votes  rating_numeric  \n",
      "11              4.8       3F7E00   Excellent   762               5  \n",
      "13              4.7       3F7E00   Excellent   570               5  \n",
      "15              4.6       3F7E00   Excellent   657               5  \n",
      "18              4.6       3F7E00   Excellent   939               5  \n",
      "43              4.4       5BA829   Very Good   575               4  \n",
      "\n",
      "[5 rows x 36 columns]\n",
      "Filtered Quezon City:\n",
      "          id  average_cost_for_two  \\\n",
      "3   18581637                  1000   \n",
      "8   18451647                   900   \n",
      "17   6314243                  1300   \n",
      "26   6318433                   800   \n",
      "27   6314240                   700   \n",
      "\n",
      "                                             book_url            cuisines  \\\n",
      "3                                                 NaN              Korean   \n",
      "8   https://www.zomato.com/manila/soru-izakaya-sik...            Japanese   \n",
      "17                                                NaN   European, Italian   \n",
      "26                                                NaN   Filipino, Mexican   \n",
      "27                                                NaN  Korean, Korean BBQ   \n",
      "\n",
      "   currency                      deeplink  \\\n",
      "3         P  zomato://restaurant/18581637   \n",
      "8         P  zomato://restaurant/18451647   \n",
      "17        P   zomato://restaurant/6314243   \n",
      "26        P   zomato://restaurant/6318433   \n",
      "27        P   zomato://restaurant/6314240   \n",
      "\n",
      "                                           events_url  \\\n",
      "3   https://www.zomato.com/manila/romantic-baboy-t...   \n",
      "8   https://www.zomato.com/manila/soru-izakaya-sik...   \n",
      "17  https://www.zomato.com/manila/the-frazzled-coo...   \n",
      "26  https://www.zomato.com/manila/silantro-fil-mex...   \n",
      "27  https://www.zomato.com/manila/leanns-tea-house...   \n",
      "\n",
      "                                       featured_image  has_online_delivery  \\\n",
      "3   https://b.zmtcdn.com/data/reviews_photos/cc1/a...                    0   \n",
      "8   https://b.zmtcdn.com/data/pictures/chains/7/18...                    0   \n",
      "17  https://b.zmtcdn.com/data/res_imagery/6314243_...                    0   \n",
      "26  https://b.zmtcdn.com/data/pictures/chains/3/63...                    0   \n",
      "27  https://b.zmtcdn.com/data/res_imagery/6314240_...                    0   \n",
      "\n",
      "    has_table_booking  ...   latitude                              locality  \\\n",
      "3                   0  ...  14.633713                          Tomas Morato   \n",
      "8                   1  ...  14.641670                      Sikatuna Village   \n",
      "17                  0  ...  14.631774                          Tomas Morato   \n",
      "26                  0  ...  14.649707  UP Town Center, Diliman, Quezon City   \n",
      "27                  0  ...  14.637421                          Tomas Morato   \n",
      "\n",
      "                                     locality_verbose   longitude  zipcode  \\\n",
      "3                           Tomas Morato, Quezon City  121.035026      NaN   \n",
      "8                       Sikatuna Village, Quezon City  121.061103      NaN   \n",
      "17                          Tomas Morato, Quezon City  121.033250      NaN   \n",
      "26  UP Town Center, Diliman, Quezon City, Quezon City  121.075574      NaN   \n",
      "27                          Tomas Morato, Quezon City  121.031013   1100.0   \n",
      "\n",
      "   aggregate_rating rating_color rating_text votes  rating_numeric  \n",
      "3               4.0       5BA829   Very Good   413               4  \n",
      "8               4.8       3F7E00   Excellent   448               5  \n",
      "17              4.3       5BA829   Very Good   732               4  \n",
      "26              4.4       5BA829   Very Good   592               4  \n",
      "27              4.2       5BA829   Very Good   594               4  \n",
      "\n",
      "[5 rows x 36 columns]\n"
     ]
    }
   ],
   "source": [
    "filtered_makati = exercise_4(merged_df, 'Makati City')\n",
    "print(\"Filtered Makati City:\")\n",
    "print(filtered_makati.head())\n",
    "\n",
    "filtered_mandaluyong = exercise_4(merged_df, 'Mandaluyong City')\n",
    "print(\"Filtered Mandaluyong City:\")\n",
    "print(filtered_mandaluyong.head())\n",
    "\n",
    "filtered_quezon = exercise_4(merged_df, 'Quezon City')\n",
    "print(\"Filtered Quezon City:\")\n",
    "print(filtered_quezon.head())"
   ]
  },
  {
   "cell_type": "markdown",
   "id": "ca7bf3c1",
   "metadata": {
    "id": "ca7bf3c1"
   },
   "source": [
    "5. Create a function to filter the dataframe to only contain certain columns passed in the function. Expected returned value is a dataframe **(1pt)**"
   ]
  },
  {
   "cell_type": "code",
   "execution_count": 131,
   "id": "59787577",
   "metadata": {
    "id": "59787577"
   },
   "outputs": [],
   "source": [
    "def exercise_5(merged_df, cols_to_filter):\n",
    "    \"\"\"\n",
    "    Returns a DataFrame containing only the specified columns.\n",
    "\n",
    "    Parameters:\n",
    "    df (pd.DataFrame): The DataFrame to filter.\n",
    "    columns (list): A list of column names to keep in the DataFrame.\n",
    "\n",
    "    Returns:\n",
    "    pd.DataFrame: A DataFrame with only the specified columns.\n",
    "    \"\"\"\n",
    "    valid_columns = [col for col in cols_to_filter if col in merged_df.columns]\n",
    "    return merged_df[cols_to_filter]"
   ]
  },
  {
   "cell_type": "code",
   "execution_count": 132,
   "id": "da27c054",
   "metadata": {
    "id": "da27c054"
   },
   "outputs": [],
   "source": [
    "cols = ['name', 'cuisines', 'city', 'aggregate_rating']\n",
    "assert sorted(cols) == sorted(exercise_5(merged_df, cols).columns)\n",
    "assert (6830, 4) == exercise_5(merged_df, cols).shape\n",
    "\n",
    "cols = ['average_cost_for_two', 'book_url', 'cuisines', 'currency', 'deeplink',\n",
    "       'events_url', 'featured_image', 'has_online_delivery',\n",
    "       'has_table_booking', 'include_bogo_offers', 'is_book_form_web_view']\n",
    "assert sorted(cols) == sorted(exercise_5(merged_df, cols).columns)\n",
    "assert (6830, 11) == exercise_5(merged_df, cols).shape\n"
   ]
  },
  {
   "cell_type": "markdown",
   "id": "d69c7e2e",
   "metadata": {
    "id": "d69c7e2e"
   },
   "source": [
    "6.  What is the most common restaurant name in the dataset? **(2pts)** Write down your answer and show code used to come up with the answer."
   ]
  },
  {
   "cell_type": "code",
   "execution_count": 134,
   "id": "cf9cdab1",
   "metadata": {
    "id": "cf9cdab1"
   },
   "outputs": [
    {
     "name": "stdout",
     "output_type": "stream",
     "text": [
      "The most common restaurant name: Starbucks\n",
      "It appeared 99 times.\n"
     ]
    }
   ],
   "source": [
    "restaurant = merged_df['name'].value_counts().idxmax()\n",
    "\n",
    "number_of_restaurant = merged_df['name'].value_counts().max()\n",
    "\n",
    "print(\"The most common restaurant name:\", restaurant)\n",
    "print(\"It appeared\", number_of_restaurant, \"times.\")"
   ]
  },
  {
   "cell_type": "markdown",
   "id": "7675b4b1",
   "metadata": {
    "id": "7675b4b1"
   },
   "source": [
    "7. Which restaurant has the most expensive average cost for two? **(2pts)** Write down your answer and show code used to come up with the answer."
   ]
  },
  {
   "cell_type": "code",
   "execution_count": 136,
   "id": "b447b440",
   "metadata": {
    "id": "b447b440"
   },
   "outputs": [
    {
     "name": "stdout",
     "output_type": "stream",
     "text": [
      "Restaurant with the most expensive average cost for two: The Tasting Room\n",
      "Average cost for two: 10000\n"
     ]
    }
   ],
   "source": [
    "merged_df['average_cost_for_two'] = pd.to_numeric(merged_df['average_cost_for_two'], errors='coerce')\n",
    "most_expensive = merged_df.sort_values(by='average_cost_for_two', ascending=False).iloc[0]\n",
    "\n",
    "restaurant_name = most_expensive['name']\n",
    "restaurant_cost = most_expensive['average_cost_for_two']\n",
    "\n",
    "print(\"Restaurant with the most expensive average cost for two:\", restaurant_name)\n",
    "print(\"Average cost for two:\", restaurant_cost)"
   ]
  },
  {
   "cell_type": "markdown",
   "id": "af873fb7",
   "metadata": {
    "id": "af873fb7"
   },
   "source": [
    "8. How many restaurants do not have a zipcode? **(1pt)** Write down your answer and show code used to come up with the answer."
   ]
  },
  {
   "cell_type": "code",
   "execution_count": 138,
   "id": "43f1234a",
   "metadata": {
    "id": "43f1234a"
   },
   "outputs": [
    {
     "name": "stdout",
     "output_type": "stream",
     "text": [
      "The number of restaurants without a zipcode: 6713\n"
     ]
    }
   ],
   "source": [
    "no_zipcode = merged_df[merged_df['zipcode'].isnull() | (merged_df['zipcode'] == '')]\n",
    "count_no_zipcode = no_zipcode.shape[0]\n",
    "\n",
    "print(f\"The number of restaurants without a zipcode: {count_no_zipcode}\")"
   ]
  },
  {
   "cell_type": "markdown",
   "id": "9347ac03",
   "metadata": {
    "id": "9347ac03"
   },
   "source": [
    "9. How many restaurants in the dataset allow online delivery? **(1pt)** Write down your answer and show code used to come up with the answer."
   ]
  },
  {
   "cell_type": "code",
   "execution_count": 140,
   "id": "24b62212",
   "metadata": {
    "id": "24b62212"
   },
   "outputs": [
    {
     "name": "stdout",
     "output_type": "stream",
     "text": [
      "The number of restaurants that allow online delivery: 0\n"
     ]
    }
   ],
   "source": [
    "with_online_delivery = merged_df[merged_df['has_online_delivery'] == 1]\n",
    "count_with_online_delivery = with_online_delivery.shape[0]\n",
    "\n",
    "print(f\"The number of restaurants that allow online delivery: {count_with_online_delivery}\")"
   ]
  },
  {
   "cell_type": "markdown",
   "id": "7f2c7aa3",
   "metadata": {
    "id": "7f2c7aa3"
   },
   "source": [
    "10. Which locatlity has more expensive food? Poblacion or Salcedo Village? **(3pts)** Write down your answer and show code used to come up with the answer.\n"
   ]
  },
  {
   "cell_type": "code",
   "execution_count": 142,
   "id": "8fb7ce16",
   "metadata": {
    "id": "8fb7ce16"
   },
   "outputs": [
    {
     "name": "stdout",
     "output_type": "stream",
     "text": [
      "Average cost for two in Poblacion: 898.2142857142857\n",
      "Average cost for two in Salcedo Village: 989.1025641025641\n",
      "Salcedo Village has more expensive food.\n"
     ]
    }
   ],
   "source": [
    "poblacion = merged_df[merged_df['locality'] == 'Poblacion']['average_cost_for_two'].mean()\n",
    "salcedo = merged_df[merged_df['locality'] == 'Salcedo Village']['average_cost_for_two'].mean()\n",
    "\n",
    "print(f\"Average cost for two in Poblacion: {poblacion}\")\n",
    "print(f\"Average cost for two in Salcedo Village: {salcedo}\")\n",
    "\n",
    "if poblacion > salcedo:\n",
    "    print(\"Poblacion has more expensive food.\")\n",
    "else:\n",
    "    print(\"Salcedo Village has more expensive food.\")"
   ]
  },
  {
   "cell_type": "code",
   "execution_count": null,
   "id": "39f48ffb-5d06-4611-beb2-4d7a4c2047b5",
   "metadata": {},
   "outputs": [],
   "source": []
  }
 ],
 "metadata": {
  "colab": {
   "provenance": []
  },
  "kernelspec": {
   "display_name": "Python 3 (ipykernel)",
   "language": "python",
   "name": "python3"
  },
  "language_info": {
   "codemirror_mode": {
    "name": "ipython",
    "version": 3
   },
   "file_extension": ".py",
   "mimetype": "text/x-python",
   "name": "python",
   "nbconvert_exporter": "python",
   "pygments_lexer": "ipython3",
   "version": "3.12.2"
  }
 },
 "nbformat": 4,
 "nbformat_minor": 5
}
